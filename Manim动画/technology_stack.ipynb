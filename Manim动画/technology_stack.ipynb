{
 "cells": [
  {
   "cell_type": "code",
   "execution_count": 1,
   "metadata": {},
   "outputs": [
    {
     "data": {
      "text/html": [
       "<pre style=\"white-space:pre;overflow-x:auto;line-height:normal;font-family:Menlo,'DejaVu Sans Mono',consolas,'Courier New',monospace\">Manim Community <span style=\"color: #008000; text-decoration-color: #008000\">v0.18.0</span>\n",
       "\n",
       "</pre>\n"
      ],
      "text/plain": [
       "Manim Community \u001b[32mv0.\u001b[0m\u001b[32m18.0\u001b[0m\n",
       "\n"
      ]
     },
     "metadata": {},
     "output_type": "display_data"
    }
   ],
   "source": [
    "from math import sin, cos, pi\n",
    "from manim import *"
   ]
  },
  {
   "cell_type": "code",
   "execution_count": 2,
   "metadata": {},
   "outputs": [
    {
     "name": "stderr",
     "output_type": "stream",
     "text": [
      "                                                                                   \r"
     ]
    },
    {
     "data": {
      "text/html": [
       "<video src=\"media\\jupyter\\TechnologyStack@2024-01-25@10-49-58.mp4\" controls autoplay loop style=\"max-width: 60%;\"  >\n",
       "      Your browser does not support the <code>video</code> element.\n",
       "    </video>"
      ],
      "text/plain": [
       "<IPython.core.display.Video object>"
      ]
     },
     "metadata": {},
     "output_type": "display_data"
    }
   ],
   "source": [
    "%%manim -v WARNING -ql TechnologyStack\n",
    "\n",
    "class TechnologyStack(Scene):\n",
    "    def construct(self):\n",
    "        fs_en = 24\n",
    "        fs_cn = 36\n",
    "\n",
    "        # 核心层\n",
    "        skill_obj_list = list()\n",
    "        fem = Text(\"FEM\", font_size=fs_en)\n",
    "        skill_obj_list.append(fem)\n",
    "        self.play(AnimationGroup(*(Wiggle(i) for i in skill_obj_list)))\n",
    "\n",
    "        # 第一圈\n",
    "        skill_obj_list = list()\n",
    "        r = 1.1\n",
    "        circle = Circle(radius=r)\n",
    "        self.add(circle)\n",
    "        skill_list = ['C++', 'Python', 'Fortran']\n",
    "        theta_start = -PI / 2  # 开始位置，-90°\n",
    "        num_skill = len(skill_list)\n",
    "        interval = 2 * PI / num_skill\n",
    "        for i in range(num_skill):\n",
    "            skill = Tex(skill_list[i], tex_template=TexTemplateLibrary.ctex, font_size=fs_cn)\n",
    "            theta = theta_start + i * interval\n",
    "            skill.move_to(r * (UP * sin(theta) + RIGHT * cos(theta)))\n",
    "            skill_obj_list.append(skill)\n",
    "        self.play(AnimationGroup(*(Wiggle(i) for i in skill_obj_list)))\n",
    "\n",
    "\n",
    "        # 第二圈\n",
    "        skill_obj_list = list()\n",
    "        r = 2.2\n",
    "        circle = Circle(radius=r)\n",
    "        self.add(circle)\n",
    "        skill_list = ['固', '流', '热']\n",
    "        theta_start = PI / 2  # 开始位置，90°\n",
    "        num_skill = len(skill_list)\n",
    "        interval = 2 * PI / num_skill\n",
    "        for i in range(num_skill):\n",
    "            skill = Tex(skill_list[i], tex_template=TexTemplateLibrary.ctex, font_size=fs_cn)\n",
    "            theta = theta_start + i * interval\n",
    "            skill.move_to(r * (UP * sin(theta) + RIGHT * cos(theta)))\n",
    "            skill_obj_list.append(skill)\n",
    "        self.play(AnimationGroup(*(Wiggle(i) for i in skill_obj_list)))\n",
    "\n",
    "        # 第三圈\n",
    "        skill_obj_list = list()\n",
    "        r = 3.3\n",
    "        circle = Circle(radius=r)\n",
    "        self.add(circle)\n",
    "        skill_list = ['Qt', 'VTK', 'OCC', '\\LaTeX', 'Manim', 'Blender', 'Shotcut']\n",
    "        theta_start = PI / 2  # 开始位置，90°\n",
    "        num_skill = len(skill_list)\n",
    "        interval = 2 * PI / num_skill\n",
    "        for i in range(num_skill):\n",
    "            skill = Tex(skill_list[i], tex_template=TexTemplateLibrary.ctex, font_size=fs_cn)\n",
    "            theta = theta_start + i * interval\n",
    "            skill.move_to(r * (UP * sin(theta) + RIGHT * cos(theta)))\n",
    "            skill_obj_list.append(skill)\n",
    "        self.play(AnimationGroup(*(Wiggle(i) for i in skill_obj_list)))\n"
   ]
  }
 ],
 "metadata": {
  "kernelspec": {
   "display_name": "Python 3",
   "language": "python",
   "name": "python3"
  },
  "language_info": {
   "codemirror_mode": {
    "name": "ipython",
    "version": 3
   },
   "file_extension": ".py",
   "mimetype": "text/x-python",
   "name": "python",
   "nbconvert_exporter": "python",
   "pygments_lexer": "ipython3",
   "version": "3.11.0"
  },
  "orig_nbformat": 4,
  "vscode": {
   "interpreter": {
    "hash": "5238573367df39f7286bb46f9ff5f08f63a01a80960060ce41e3c79b190280fa"
   }
  }
 },
 "nbformat": 4,
 "nbformat_minor": 2
}
